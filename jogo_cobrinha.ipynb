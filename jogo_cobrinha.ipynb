{
 "cells": [
  {
   "cell_type": "code",
   "execution_count": 1,
   "metadata": {
    "id": "NrcKsBGRvjAE"
   },
   "outputs": [
    {
     "name": "stdout",
     "output_type": "stream",
     "text": [
      "Collecting pygame\n",
      "  Downloading pygame-2.6.1-cp312-cp312-win_amd64.whl.metadata (13 kB)\n",
      "Downloading pygame-2.6.1-cp312-cp312-win_amd64.whl (10.6 MB)\n",
      "   ---------------------------------------- 0.0/10.6 MB ? eta -:--:--\n",
      "   ------------------------------------- -- 10.0/10.6 MB 62.2 MB/s eta 0:00:01\n",
      "   ---------------------------------------- 10.6/10.6 MB 47.5 MB/s eta 0:00:00\n",
      "Installing collected packages: pygame\n",
      "Successfully installed pygame-2.6.1\n",
      "Note: you may need to restart the kernel to use updated packages.\n"
     ]
    },
    {
     "name": "stderr",
     "output_type": "stream",
     "text": [
      "\n",
      "[notice] A new release of pip is available: 24.2 -> 24.3.1\n",
      "[notice] To update, run: python.exe -m pip install --upgrade pip\n"
     ]
    }
   ],
   "source": [
    "pip install pygame"
   ]
  },
  {
   "cell_type": "code",
   "execution_count": null,
   "metadata": {
    "id": "3HiqkXXITgba"
   },
   "outputs": [
    {
     "name": "stdout",
     "output_type": "stream",
     "text": [
      "pygame 2.6.1 (SDL 2.28.4, Python 3.12.5)\n",
      "Hello from the pygame community. https://www.pygame.org/contribute.html\n"
     ]
    },
    {
     "ename": "",
     "evalue": "",
     "output_type": "error",
     "traceback": [
      "\u001b[1;31mO Kernel deu pane ao executar o código na célula atual ou em uma célula anterior. \n",
      "\u001b[1;31mAnalise o código nas células para identificar uma possível causa da pane. \n",
      "\u001b[1;31mClique <a href='https://aka.ms/vscodeJupyterKernelCrash'>aqui</a> para obter mais informações. \n",
      "\u001b[1;31mConsulte Jupyter <a href='command:jupyter.viewOutput'>log</a> para obter mais detalhes."
     ]
    }
   ],
   "source": [
    "import pygame\n",
    "import time\n",
    "import random\n",
    "\n",
    "pygame.init()\n",
    "\n",
    "branco = (255, 255, 255)\n",
    "amarelo = (255, 255, 102)\n",
    "preto = (0, 0, 0)\n",
    "vermelho = (213, 50, 80)\n",
    "verde = (0, 255, 0)\n",
    "azul = (50, 153, 213)\n",
    "\n",
    "largura_tela = 800\n",
    "altura_tela = 600\n",
    "\n",
    "tamanho_bloco = 10\n",
    "velocidade = 15\n",
    "\n",
    "fonte = pygame.font.SysFont(\"bahnschrift\", 25)\n",
    "fonte_pontuacao = pygame.font.SysFont(\"comicsansms\", 35)\n",
    "\n",
    "tela = pygame.display.set_mode((largura_tela, altura_tela))\n",
    "pygame.display.set_caption('Jogo da Cobrinha')\n",
    "\n",
    "\n",
    "def pontuacao(pontos):\n",
    "    valor = fonte_pontuacao.render(\"Sua Pontuação: \" + str(pontos), True, preto)\n",
    "    tela.blit(valor, [0, 0])\n",
    "\n",
    "def nossa_cobra(tamanho_bloco, lista_cobra):\n",
    "    for x in lista_cobra:\n",
    "        pygame.draw.rect(tela, verde, [x[0], x[1], tamanho_bloco, tamanho_bloco])\n",
    "\n",
    "def mensagem(msg, cor):\n",
    "    mesg = fonte.render(msg, True, cor)\n",
    "    tela.blit(mesg, [largura_tela / 6, altura_tela / 3])\n",
    "\n",
    "\n",
    "def jogo():\n",
    "    fim_jogo = False\n",
    "    game_over = False\n",
    "\n",
    "    x1 = largura_tela / 2\n",
    "    y1 = altura_tela / 2\n",
    "\n",
    "    x1_mudanca = 0\n",
    "    y1_mudanca = 0\n",
    "\n",
    "    lista_cobra = []\n",
    "    comprimento_cobra = 1\n",
    "\n",
    "    comida_x = round(random.randrange(0, largura_tela - tamanho_bloco) / 10.0) * 10.0\n",
    "    comida_y = round(random.randrange(0, altura_tela - tamanho_bloco) / 10.0) * 10.0\n",
    "\n",
    "    while not fim_jogo:\n",
    "\n",
    "        while game_over == True:\n",
    "            tela.fill(branco)\n",
    "            mensagem(\"Você perdeu! Pressione C-Continuar ou Q-Sair\", vermelho)\n",
    "            pontuacao(comprimento_cobra - 1)\n",
    "            pygame.display.update()\n",
    "\n",
    "            for event in pygame.event.get():\n",
    "                if event.type == pygame.KEYDOWN:\n",
    "                    if event.key == pygame.K_q:\n",
    "                        fim_jogo = True\n",
    "                        game_over = False\n",
    "                    if event.key == pygame.K_c:\n",
    "                        jogo()\n",
    "\n",
    "        for event in pygame.event.get():\n",
    "            if event.type == pygame.QUIT:\n",
    "                fim_jogo = True\n",
    "            if event.type == pygame.KEYDOWN:\n",
    "                if event.key == pygame.K_LEFT:\n",
    "                    x1_mudanca = -tamanho_bloco\n",
    "                    y1_mudanca = 0\n",
    "                elif event.key == pygame.K_RIGHT:\n",
    "                    x1_mudanca = tamanho_bloco\n",
    "                    y1_mudanca = 0\n",
    "                elif event.key == pygame.K_UP:\n",
    "                    y1_mudanca = -tamanho_bloco\n",
    "                    x1_mudanca = 0\n",
    "                elif event.key == pygame.K_DOWN:\n",
    "                    y1_mudanca = tamanho_bloco\n",
    "                    x1_mudanca = 0\n",
    "\n",
    "        if x1 >= largura_tela or x1 < 0 or y1 >= altura_tela or y1 < 0:\n",
    "            game_over = True\n",
    "        x1 += x1_mudanca\n",
    "        y1 += y1_mudanca\n",
    "        tela.fill(azul)\n",
    "        pygame.draw.rect(tela, preto, [comida_x, comida_y, tamanho_bloco, tamanho_bloco])\n",
    "        cabeca_cobra = []\n",
    "        cabeca_cobra.append(x1)\n",
    "        cabeca_cobra.append(y1)\n",
    "        lista_cobra.append(cabeca_cobra)\n",
    "        if len(lista_cobra) > comprimento_cobra:\n",
    "            del lista_cobra[0]\n",
    "\n",
    "        for x in lista_cobra[:-1]:\n",
    "            if x == cabeca_cobra:\n",
    "                game_over = True\n",
    "\n",
    "        nossa_cobra(tamanho_bloco, lista_cobra)\n",
    "        pontuacao(comprimento_cobra - 1)\n",
    "\n",
    "        pygame.display.update()\n",
    "\n",
    "        if x1 == comida_x and y1 == comida_y:\n",
    "            comida_x = round(random.randrange(0, largura_tela - tamanho_bloco) / 10.0) * 10.0\n",
    "            comida_y = round(random.randrange(0, altura_tela - tamanho_bloco) / 10.0) * 10.0\n",
    "            comprimento_cobra += 1\n",
    "\n",
    "        clock = pygame.time.Clock()\n",
    "        clock.tick(velocidade)\n",
    "\n",
    "    pygame.quit()\n",
    "    quit()\n",
    "\n",
    "jogo()"
   ]
  }
 ],
 "metadata": {
  "colab": {
   "provenance": []
  },
  "kernelspec": {
   "display_name": "Python 3",
   "name": "python3"
  },
  "language_info": {
   "codemirror_mode": {
    "name": "ipython",
    "version": 3
   },
   "file_extension": ".py",
   "mimetype": "text/x-python",
   "name": "python",
   "nbconvert_exporter": "python",
   "pygments_lexer": "ipython3",
   "version": "3.12.5"
  }
 },
 "nbformat": 4,
 "nbformat_minor": 0
}
